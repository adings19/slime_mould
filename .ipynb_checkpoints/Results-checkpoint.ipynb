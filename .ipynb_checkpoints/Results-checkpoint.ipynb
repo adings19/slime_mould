{
 "cells": [
  {
   "cell_type": "markdown",
   "metadata": {},
   "source": [
    "# Test Results"
   ]
  },
  {
   "cell_type": "code",
   "execution_count": 18,
   "metadata": {},
   "outputs": [],
   "source": [
    "import numpy as np\n",
    "from SMA import BaseSMA, OriginalSMA\n",
    "import LocMinFuncs\n",
    "import plot\n",
    "from GWO import GreyWolf\n",
    "\n",
    "#to modify starting point, update 'pos' in path() func call\n",
    "def path(obj_func, lb, ub, problem_size, verbose, epoch, pop_size,pos = np.array([-6,6]), Alg=\"SMA\"):\n",
    "    p=[]\n",
    "    p.append(pos)\n",
    "    resolution = 5\n",
    "    # resolution = 10\n",
    "    bnd = np.array([ub,lb]) #bounds\n",
    "    # while True: \n",
    "    for i in range(10): #number of steps to take\n",
    "        print(\"****** i *****:\", i)\n",
    "        # regional area size\n",
    "        m_ub = list((bnd/resolution + pos)[0])\n",
    "        m_lb = list(pos-100)\n",
    "        #previous working line\n",
    "        # m_lb = list((bnd/resolution + pos)[1])\n",
    "        \n",
    "        # for j in range(0,2):\n",
    "        #     m_ub.append(ub[j]/resolution + pos[j])\n",
    "        #     m_lb.append(lb[j]/resolution + pos[j])\n",
    "        # print(m_ub,\"\\n\",m_lb,\"\\n\")\n",
    "        if Alg == \"SMA\":\n",
    "            md1 = BaseSMA(obj_func, m_lb, m_ub, problem_size, verbose, epoch, pop_size)\n",
    "            best_pos1, best_fit1, list_loss1, time_elapsed1  = md1.train()\n",
    "            pos = md1.solution[0]\n",
    "            p.append(pos)\n",
    "        if Alg == \"GWO\":\n",
    "            md3 = GreyWolf(obj_func, m_lb, m_ub, problem_size, verbose, epoch, pop_size)\n",
    "            best_pos3, best_fit3, list_loss3, time_elapsed3 = md3.train()\n",
    "            pos = md3.solution[0]\n",
    "            p.append(pos)\n",
    "    p = np.array(p)\n",
    "    return p"
   ]
  },
  {
   "cell_type": "markdown",
   "metadata": {},
   "source": [
    "Initialization:"
   ]
  },
  {
   "cell_type": "code",
   "execution_count": 19,
   "metadata": {},
   "outputs": [],
   "source": [
    "#Ackley\n",
    "ub = [1000,1000]\n",
    "lb = [0,0]\n",
    "problem_size = 2\n",
    "\n",
    "## Setting parameters\n",
    "obj_func = LocMinFuncs.some_obstacles\n",
    "#obj_func = LocMinFuncs.ackley\n",
    "pos = np.array([900,900]) #starting position\n",
    "verbose = False\n",
    "epoch = 10\n",
    "pop_size = 50"
   ]
  },
  {
   "cell_type": "markdown",
   "metadata": {},
   "source": [
    "## SMA:"
   ]
  },
  {
   "cell_type": "code",
   "execution_count": 20,
   "metadata": {},
   "outputs": [
    {
     "name": "stdout",
     "output_type": "stream",
     "text": [
      "****** i *****: 0\n",
      "****** i *****: 1\n"
     ]
    },
    {
     "ename": "KeyboardInterrupt",
     "evalue": "",
     "output_type": "error",
     "traceback": [
      "\u001b[1;31m---------------------------------------------------------------------------\u001b[0m",
      "\u001b[1;31mKeyboardInterrupt\u001b[0m                         Traceback (most recent call last)",
      "\u001b[1;32m<ipython-input-20-abefa41566ba>\u001b[0m in \u001b[0;36m<module>\u001b[1;34m\u001b[0m\n\u001b[0;32m      2\u001b[0m \u001b[0mbest_pos1\u001b[0m\u001b[1;33m,\u001b[0m \u001b[0mbest_fit1\u001b[0m\u001b[1;33m,\u001b[0m \u001b[0mlist_loss1\u001b[0m\u001b[1;33m,\u001b[0m \u001b[0mtime_elapsed1\u001b[0m \u001b[1;33m=\u001b[0m \u001b[0mmd1\u001b[0m\u001b[1;33m.\u001b[0m\u001b[0mtrain\u001b[0m\u001b[1;33m(\u001b[0m\u001b[1;33m)\u001b[0m\u001b[1;33m\u001b[0m\u001b[1;33m\u001b[0m\u001b[0m\n\u001b[0;32m      3\u001b[0m \u001b[1;31m# return : the global best solution, the fitness of global best solution and the loss of training process in each epoch/iteration\u001b[0m\u001b[1;33m\u001b[0m\u001b[1;33m\u001b[0m\u001b[1;33m\u001b[0m\u001b[0m\n\u001b[1;32m----> 4\u001b[1;33m \u001b[0mp\u001b[0m \u001b[1;33m=\u001b[0m \u001b[0mpath\u001b[0m\u001b[1;33m(\u001b[0m\u001b[0mobj_func\u001b[0m\u001b[1;33m,\u001b[0m \u001b[0mlb\u001b[0m\u001b[1;33m,\u001b[0m \u001b[0mub\u001b[0m\u001b[1;33m,\u001b[0m \u001b[0mproblem_size\u001b[0m\u001b[1;33m,\u001b[0m \u001b[0mverbose\u001b[0m\u001b[1;33m,\u001b[0m \u001b[0mepoch\u001b[0m\u001b[1;33m,\u001b[0m \u001b[0mpop_size\u001b[0m\u001b[1;33m,\u001b[0m\u001b[0mpos\u001b[0m\u001b[1;33m,\u001b[0m\u001b[1;34m\"SMA\"\u001b[0m\u001b[1;33m)\u001b[0m\u001b[1;33m\u001b[0m\u001b[1;33m\u001b[0m\u001b[0m\n\u001b[0m\u001b[0;32m      5\u001b[0m \u001b[0mdist\u001b[0m \u001b[1;33m=\u001b[0m \u001b[0mplot\u001b[0m\u001b[1;33m.\u001b[0m\u001b[0mplot\u001b[0m\u001b[1;33m(\u001b[0m\u001b[0mp\u001b[0m\u001b[1;33m[\u001b[0m\u001b[1;33m:\u001b[0m\u001b[1;33m,\u001b[0m\u001b[1;36m0\u001b[0m\u001b[1;33m]\u001b[0m\u001b[1;33m,\u001b[0m\u001b[0mp\u001b[0m\u001b[1;33m[\u001b[0m\u001b[1;33m:\u001b[0m\u001b[1;33m,\u001b[0m\u001b[1;36m1\u001b[0m\u001b[1;33m]\u001b[0m\u001b[1;33m,\u001b[0m\u001b[0mobj_func\u001b[0m\u001b[1;33m)\u001b[0m\u001b[1;33m\u001b[0m\u001b[1;33m\u001b[0m\u001b[0m\n\u001b[0;32m      6\u001b[0m \u001b[0mprint\u001b[0m\u001b[1;33m(\u001b[0m\u001b[1;34m'Global Best Solution:'\u001b[0m\u001b[1;33m)\u001b[0m\u001b[1;33m\u001b[0m\u001b[1;33m\u001b[0m\u001b[0m\n",
      "\u001b[1;32m<ipython-input-18-2ca5d9d1e9e5>\u001b[0m in \u001b[0;36mpath\u001b[1;34m(obj_func, lb, ub, problem_size, verbose, epoch, pop_size, pos, Alg)\u001b[0m\n\u001b[0;32m     27\u001b[0m         \u001b[1;32mif\u001b[0m \u001b[0mAlg\u001b[0m \u001b[1;33m==\u001b[0m \u001b[1;34m\"SMA\"\u001b[0m\u001b[1;33m:\u001b[0m\u001b[1;33m\u001b[0m\u001b[1;33m\u001b[0m\u001b[0m\n\u001b[0;32m     28\u001b[0m             \u001b[0mmd1\u001b[0m \u001b[1;33m=\u001b[0m \u001b[0mBaseSMA\u001b[0m\u001b[1;33m(\u001b[0m\u001b[0mobj_func\u001b[0m\u001b[1;33m,\u001b[0m \u001b[0mm_lb\u001b[0m\u001b[1;33m,\u001b[0m \u001b[0mm_ub\u001b[0m\u001b[1;33m,\u001b[0m \u001b[0mproblem_size\u001b[0m\u001b[1;33m,\u001b[0m \u001b[0mverbose\u001b[0m\u001b[1;33m,\u001b[0m \u001b[0mepoch\u001b[0m\u001b[1;33m,\u001b[0m \u001b[0mpop_size\u001b[0m\u001b[1;33m)\u001b[0m\u001b[1;33m\u001b[0m\u001b[1;33m\u001b[0m\u001b[0m\n\u001b[1;32m---> 29\u001b[1;33m             \u001b[0mbest_pos1\u001b[0m\u001b[1;33m,\u001b[0m \u001b[0mbest_fit1\u001b[0m\u001b[1;33m,\u001b[0m \u001b[0mlist_loss1\u001b[0m\u001b[1;33m,\u001b[0m \u001b[0mtime_elapsed1\u001b[0m  \u001b[1;33m=\u001b[0m \u001b[0mmd1\u001b[0m\u001b[1;33m.\u001b[0m\u001b[0mtrain\u001b[0m\u001b[1;33m(\u001b[0m\u001b[1;33m)\u001b[0m\u001b[1;33m\u001b[0m\u001b[1;33m\u001b[0m\u001b[0m\n\u001b[0m\u001b[0;32m     30\u001b[0m             \u001b[0mpos\u001b[0m \u001b[1;33m=\u001b[0m \u001b[0mmd1\u001b[0m\u001b[1;33m.\u001b[0m\u001b[0msolution\u001b[0m\u001b[1;33m[\u001b[0m\u001b[1;36m0\u001b[0m\u001b[1;33m]\u001b[0m\u001b[1;33m\u001b[0m\u001b[1;33m\u001b[0m\u001b[0m\n\u001b[0;32m     31\u001b[0m             \u001b[0mp\u001b[0m\u001b[1;33m.\u001b[0m\u001b[0mappend\u001b[0m\u001b[1;33m(\u001b[0m\u001b[0mpos\u001b[0m\u001b[1;33m)\u001b[0m\u001b[1;33m\u001b[0m\u001b[1;33m\u001b[0m\u001b[0m\n",
      "\u001b[1;32m~\\Documents\\git\\slime_mould\\SMA.py\u001b[0m in \u001b[0;36mtrain\u001b[1;34m(self)\u001b[0m\n\u001b[0;32m    107\u001b[0m                 \u001b[1;31m# Check bound and re-calculate fitness after each individual move\u001b[0m\u001b[1;33m\u001b[0m\u001b[1;33m\u001b[0m\u001b[1;33m\u001b[0m\u001b[0m\n\u001b[0;32m    108\u001b[0m                 \u001b[0mpos_new\u001b[0m \u001b[1;33m=\u001b[0m \u001b[0mself\u001b[0m\u001b[1;33m.\u001b[0m\u001b[0mamend_position\u001b[0m\u001b[1;33m(\u001b[0m\u001b[0mpos_new\u001b[0m\u001b[1;33m)\u001b[0m\u001b[1;33m\u001b[0m\u001b[1;33m\u001b[0m\u001b[0m\n\u001b[1;32m--> 109\u001b[1;33m                 \u001b[0mfit_new\u001b[0m \u001b[1;33m=\u001b[0m \u001b[0mself\u001b[0m\u001b[1;33m.\u001b[0m\u001b[0mget_fitness_position\u001b[0m\u001b[1;33m(\u001b[0m\u001b[0mpos_new\u001b[0m\u001b[1;33m)\u001b[0m\u001b[1;33m\u001b[0m\u001b[1;33m\u001b[0m\u001b[0m\n\u001b[0m\u001b[0;32m    110\u001b[0m                 \u001b[0mpop\u001b[0m\u001b[1;33m[\u001b[0m\u001b[0mi\u001b[0m\u001b[1;33m]\u001b[0m\u001b[1;33m[\u001b[0m\u001b[0mself\u001b[0m\u001b[1;33m.\u001b[0m\u001b[0mID_POS\u001b[0m\u001b[1;33m]\u001b[0m \u001b[1;33m=\u001b[0m \u001b[0mpos_new\u001b[0m\u001b[1;33m\u001b[0m\u001b[1;33m\u001b[0m\u001b[0m\n\u001b[0;32m    111\u001b[0m                 \u001b[0mpop\u001b[0m\u001b[1;33m[\u001b[0m\u001b[0mi\u001b[0m\u001b[1;33m]\u001b[0m\u001b[1;33m[\u001b[0m\u001b[0mself\u001b[0m\u001b[1;33m.\u001b[0m\u001b[0mID_FIT\u001b[0m\u001b[1;33m]\u001b[0m \u001b[1;33m=\u001b[0m \u001b[0mfit_new\u001b[0m\u001b[1;33m\u001b[0m\u001b[1;33m\u001b[0m\u001b[0m\n",
      "\u001b[1;32m~\\Documents\\git\\slime_mould\\root.py\u001b[0m in \u001b[0;36mget_fitness_position\u001b[1;34m(self, position, minmax)\u001b[0m\n\u001b[0;32m    114\u001b[0m         \u001b[1;33m:\u001b[0m\u001b[1;32mreturn\u001b[0m\u001b[1;33m:\u001b[0m\u001b[1;33m\u001b[0m\u001b[1;33m\u001b[0m\u001b[0m\n\u001b[0;32m    115\u001b[0m         \"\"\"\n\u001b[1;32m--> 116\u001b[1;33m         \u001b[1;32mreturn\u001b[0m \u001b[0mself\u001b[0m\u001b[1;33m.\u001b[0m\u001b[0mobj_func\u001b[0m\u001b[1;33m(\u001b[0m\u001b[0mposition\u001b[0m\u001b[1;33m)\u001b[0m \u001b[1;32mif\u001b[0m \u001b[0mminmax\u001b[0m \u001b[1;33m==\u001b[0m \u001b[1;36m0\u001b[0m \u001b[1;32melse\u001b[0m \u001b[1;36m1.0\u001b[0m \u001b[1;33m/\u001b[0m \u001b[1;33m(\u001b[0m\u001b[0mself\u001b[0m\u001b[1;33m.\u001b[0m\u001b[0mobj_func\u001b[0m\u001b[1;33m(\u001b[0m\u001b[0mposition\u001b[0m\u001b[1;33m)\u001b[0m \u001b[1;33m+\u001b[0m \u001b[0mself\u001b[0m\u001b[1;33m.\u001b[0m\u001b[0mEPSILON\u001b[0m\u001b[1;33m)\u001b[0m\u001b[1;33m\u001b[0m\u001b[1;33m\u001b[0m\u001b[0m\n\u001b[0m\u001b[0;32m    117\u001b[0m \u001b[1;33m\u001b[0m\u001b[0m\n\u001b[0;32m    118\u001b[0m     \u001b[1;32mdef\u001b[0m \u001b[0mget_sorted_pop_and_global_best_solution\u001b[0m\u001b[1;33m(\u001b[0m\u001b[0mself\u001b[0m\u001b[1;33m,\u001b[0m \u001b[0mpop\u001b[0m\u001b[1;33m=\u001b[0m\u001b[1;32mNone\u001b[0m\u001b[1;33m,\u001b[0m \u001b[0mid_fit\u001b[0m\u001b[1;33m=\u001b[0m\u001b[1;32mNone\u001b[0m\u001b[1;33m,\u001b[0m \u001b[0mid_best\u001b[0m\u001b[1;33m=\u001b[0m\u001b[1;32mNone\u001b[0m\u001b[1;33m)\u001b[0m\u001b[1;33m:\u001b[0m\u001b[1;33m\u001b[0m\u001b[1;33m\u001b[0m\u001b[0m\n",
      "\u001b[1;32m~\\Documents\\git\\slime_mould\\LocMinFuncs.py\u001b[0m in \u001b[0;36msome_obstacles\u001b[1;34m(args)\u001b[0m\n\u001b[0;32m     78\u001b[0m     \u001b[0my\u001b[0m \u001b[1;33m=\u001b[0m \u001b[0mnp\u001b[0m\u001b[1;33m.\u001b[0m\u001b[0mload\u001b[0m\u001b[1;33m(\u001b[0m\u001b[1;34m'some_obstacles.npy'\u001b[0m\u001b[1;33m)\u001b[0m\u001b[1;33m\u001b[0m\u001b[1;33m\u001b[0m\u001b[0m\n\u001b[0;32m     79\u001b[0m \u001b[1;33m\u001b[0m\u001b[0m\n\u001b[1;32m---> 80\u001b[1;33m     \u001b[0mf\u001b[0m \u001b[1;33m=\u001b[0m \u001b[0minterpolate\u001b[0m\u001b[1;33m.\u001b[0m\u001b[0minterp2d\u001b[0m\u001b[1;33m(\u001b[0m\u001b[0mx1new\u001b[0m\u001b[1;33m,\u001b[0m \u001b[0mx2new\u001b[0m\u001b[1;33m,\u001b[0m \u001b[0my\u001b[0m\u001b[1;33m,\u001b[0m \u001b[0mkind\u001b[0m\u001b[1;33m=\u001b[0m\u001b[1;34m'cubic'\u001b[0m\u001b[1;33m)\u001b[0m\u001b[1;33m\u001b[0m\u001b[1;33m\u001b[0m\u001b[0m\n\u001b[0m\u001b[0;32m     81\u001b[0m     \u001b[0mz\u001b[0m \u001b[1;33m=\u001b[0m \u001b[0mf\u001b[0m\u001b[1;33m(\u001b[0m\u001b[0mx1\u001b[0m\u001b[1;33m,\u001b[0m\u001b[0mx2\u001b[0m\u001b[1;33m)\u001b[0m\u001b[1;33m\u001b[0m\u001b[1;33m\u001b[0m\u001b[0m\n\u001b[0;32m     82\u001b[0m     \u001b[1;31m# print(\"x1:\",x1,\"x2:\",x2,\"z:\",z)\u001b[0m\u001b[1;33m\u001b[0m\u001b[1;33m\u001b[0m\u001b[1;33m\u001b[0m\u001b[0m\n",
      "\u001b[1;32mc:\\users\\sensi\\appdata\\local\\programs\\python\\python37\\lib\\site-packages\\scipy\\interpolate\\interpolate.py\u001b[0m in \u001b[0;36m__init__\u001b[1;34m(self, x, y, z, kind, copy, bounds_error, fill_value)\u001b[0m\n\u001b[0;32m    241\u001b[0m             nx, tx, ny, ty, c, fp, ier = dfitpack.regrid_smth(\n\u001b[0;32m    242\u001b[0m                 \u001b[0mx\u001b[0m\u001b[1;33m,\u001b[0m \u001b[0my\u001b[0m\u001b[1;33m,\u001b[0m \u001b[0mz\u001b[0m\u001b[1;33m,\u001b[0m \u001b[1;32mNone\u001b[0m\u001b[1;33m,\u001b[0m \u001b[1;32mNone\u001b[0m\u001b[1;33m,\u001b[0m \u001b[1;32mNone\u001b[0m\u001b[1;33m,\u001b[0m \u001b[1;32mNone\u001b[0m\u001b[1;33m,\u001b[0m\u001b[1;33m\u001b[0m\u001b[1;33m\u001b[0m\u001b[0m\n\u001b[1;32m--> 243\u001b[1;33m                 kx=kx, ky=ky, s=0.0)\n\u001b[0m\u001b[0;32m    244\u001b[0m             self.tck = (tx[:nx], ty[:ny], c[:(nx - kx - 1) * (ny - ky - 1)],\n\u001b[0;32m    245\u001b[0m                         kx, ky)\n",
      "\u001b[1;31mKeyboardInterrupt\u001b[0m: "
     ]
    }
   ],
   "source": [
    "md1 = BaseSMA(obj_func, lb, ub, problem_size, verbose, epoch, pop_size)\n",
    "best_pos1, best_fit1, list_loss1, time_elapsed1 = md1.train()\n",
    "# return : the global best solution, the fitness of global best solution and the loss of training process in each epoch/iteration\n",
    "p = path(obj_func, lb, ub, problem_size, verbose, epoch, pop_size,pos,\"SMA\")\n",
    "dist = plot.plot(p[:,0],p[:,1],obj_func)\n",
    "print('Global Best Solution:')\n",
    "print(md1.solution[0])\n",
    "print(type(md1.solution[0]))\n",
    "print(p)\n",
    "\n",
    "print(\"Total Distance:\",dist)\n",
    "print(\"Original SMA Best Fit:\", best_fit1)\n",
    "print(\"SMA Time Elapsed: \", time_elapsed1)"
   ]
  },
  {
   "cell_type": "markdown",
   "metadata": {},
   "source": [
    "## GWO:"
   ]
  },
  {
   "cell_type": "code",
   "execution_count": null,
   "metadata": {},
   "outputs": [],
   "source": [
    "md3 = GreyWolf(obj_func, lb, ub, problem_size, verbose, epoch, pop_size)\n",
    "best_pos3, best_fit3, list_loss3, time_elapsed3 = md3.train()\n",
    "# return : the global best solution, the fitness of global best solution and the loss of training process in each epoch/iteration\n",
    "p = path(obj_func, lb, ub, problem_size, verbose, epoch, pop_size,pos,\"GWO\")\n",
    "dist = plot.plot(p[:,0],p[:,1],obj_func)\n",
    "print('Global Best Solution:')\n",
    "print(md3.solution[0])\n",
    "print(type(md3.solution[0]))\n",
    "print(p)\n",
    "print(\"Total Distance:\",dist)\n",
    "print(\"GWO Best Fit:\", best_fit3)\n",
    "print(\"GWO Time Elapsed: \", time_elapsed3)"
   ]
  },
  {
   "cell_type": "markdown",
   "metadata": {},
   "source": [
    "Run the algorithms for same amount of time."
   ]
  },
  {
   "cell_type": "code",
   "execution_count": null,
   "metadata": {},
   "outputs": [],
   "source": [
    "# Reduce the number of epochs on the SMA so that they both run for about the same amount of time\n",
    "print(\"Same amount of time given to both:\")\n",
    "ratio = time_elapsed3 / time_elapsed1"
   ]
  },
  {
   "cell_type": "markdown",
   "metadata": {},
   "source": [
    "## SMA:"
   ]
  },
  {
   "cell_type": "code",
   "execution_count": null,
   "metadata": {},
   "outputs": [],
   "source": [
    "md1 = BaseSMA(obj_func, lb, ub, problem_size, verbose, int(epoch * ratio), pop_size)\n",
    "best_pos1, best_fit1, list_loss1, time_elapsed1 = md1.train()\n",
    "p = path(obj_func, lb, ub, problem_size, verbose, epoch, pop_size,pos,\"SMA\")\n",
    "dist = plot.plot(p[:,0],p[:,1],obj_func)\n",
    "print('Global Best Solution:')\n",
    "print(md1.solution[0])\n",
    "print(type(md1.solution[0]))\n",
    "print(p)\n",
    "print(\"Total Distance:\",dist)\n",
    "print(\"\\tOriginal SMA Best Fit:\", best_fit1)\n",
    "print(\"\\tSMA Time Elapsed: \", time_elapsed1)"
   ]
  },
  {
   "cell_type": "markdown",
   "metadata": {},
   "source": [
    "## GWO:"
   ]
  },
  {
   "cell_type": "code",
   "execution_count": null,
   "metadata": {},
   "outputs": [],
   "source": [
    "md3 = GreyWolf(obj_func, lb, ub, problem_size, verbose, epoch, pop_size)\n",
    "best_pos3, best_fit3, list_loss3, time_elapsed3 = md3.train()\n",
    "p = path(obj_func, lb, ub, problem_size, verbose, epoch, pop_size,pos,\"GWO\")\n",
    "dist = plot.plot(p[:,0],p[:,1],obj_func)\n",
    "print('Global Best Solution:')\n",
    "print(md3.solution[0])\n",
    "print(type(md3.solution[0]))\n",
    "print(p)\n",
    "print(\"Total Distance:\",dist)\n",
    "print(\"\\tGWO Best Fit:\", best_fit3)\n",
    "print(\"\\tGWO Time Elapsed: \", time_elapsed3)"
   ]
  },
  {
   "cell_type": "code",
   "execution_count": null,
   "metadata": {},
   "outputs": [],
   "source": []
  }
 ],
 "metadata": {
  "kernelspec": {
   "display_name": "Python 3",
   "language": "python",
   "name": "python3"
  },
  "language_info": {
   "codemirror_mode": {
    "name": "ipython",
    "version": 3
   },
   "file_extension": ".py",
   "mimetype": "text/x-python",
   "name": "python",
   "nbconvert_exporter": "python",
   "pygments_lexer": "ipython3",
   "version": "3.7.9"
  }
 },
 "nbformat": 4,
 "nbformat_minor": 4
}
